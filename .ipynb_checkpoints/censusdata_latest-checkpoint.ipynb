{
 "cells": [
  {
   "cell_type": "code",
   "execution_count": 1,
   "metadata": {},
   "outputs": [],
   "source": [
    "# Dependencies\n",
    "import pandas as pd\n",
    "from sqlalchemy import create_engine"
   ]
  },
  {
   "cell_type": "markdown",
   "metadata": {},
   "source": [
    "# Extract CSVs into DataFrames"
   ]
  },
  {
   "cell_type": "code",
   "execution_count": 7,
   "metadata": {},
   "outputs": [
    {
     "data": {
      "text/html": [
       "<div>\n",
       "<style scoped>\n",
       "    .dataframe tbody tr th:only-of-type {\n",
       "        vertical-align: middle;\n",
       "    }\n",
       "\n",
       "    .dataframe tbody tr th {\n",
       "        vertical-align: top;\n",
       "    }\n",
       "\n",
       "    .dataframe thead th {\n",
       "        text-align: right;\n",
       "    }\n",
       "</style>\n",
       "<table border=\"1\" class=\"dataframe\">\n",
       "  <thead>\n",
       "    <tr style=\"text-align: right;\">\n",
       "      <th></th>\n",
       "      <th>version https://git-lfs.github.com/spec/v1</th>\n",
       "    </tr>\n",
       "  </thead>\n",
       "  <tbody>\n",
       "    <tr>\n",
       "      <th>0</th>\n",
       "      <td>oid sha256:b5ac5c18462f0a876d5b2b3f2f2589bfa0e...</td>\n",
       "    </tr>\n",
       "    <tr>\n",
       "      <th>1</th>\n",
       "      <td>size 13054254</td>\n",
       "    </tr>\n",
       "  </tbody>\n",
       "</table>\n",
       "</div>"
      ],
      "text/plain": [
       "          version https://git-lfs.github.com/spec/v1\n",
       "0  oid sha256:b5ac5c18462f0a876d5b2b3f2f2589bfa0e...\n",
       "1                                      size 13054254"
      ]
     },
     "execution_count": 7,
     "metadata": {},
     "output_type": "execute_result"
    }
   ],
   "source": [
    "census_file = \"Resources/acs_2015_census_tract_data.csv\"\n",
    "census_df = pd.read_csv(census_file)\n",
    "census_df.head()"
   ]
  },
  {
   "cell_type": "markdown",
   "metadata": {},
   "source": [
    "# Transform census DataFrame"
   ]
  },
  {
   "cell_type": "code",
   "execution_count": 3,
   "metadata": {},
   "outputs": [
    {
     "ename": "KeyError",
     "evalue": "'State'",
     "output_type": "error",
     "traceback": [
      "\u001b[1;31m---------------------------------------------------------------------------\u001b[0m",
      "\u001b[1;31mKeyError\u001b[0m                                  Traceback (most recent call last)",
      "\u001b[1;32m~\\Anaconda3\\lib\\site-packages\\pandas\\core\\indexes\\base.py\u001b[0m in \u001b[0;36mget_loc\u001b[1;34m(self, key, method, tolerance)\u001b[0m\n\u001b[0;32m   2656\u001b[0m             \u001b[1;32mtry\u001b[0m\u001b[1;33m:\u001b[0m\u001b[1;33m\u001b[0m\u001b[1;33m\u001b[0m\u001b[0m\n\u001b[1;32m-> 2657\u001b[1;33m                 \u001b[1;32mreturn\u001b[0m \u001b[0mself\u001b[0m\u001b[1;33m.\u001b[0m\u001b[0m_engine\u001b[0m\u001b[1;33m.\u001b[0m\u001b[0mget_loc\u001b[0m\u001b[1;33m(\u001b[0m\u001b[0mkey\u001b[0m\u001b[1;33m)\u001b[0m\u001b[1;33m\u001b[0m\u001b[1;33m\u001b[0m\u001b[0m\n\u001b[0m\u001b[0;32m   2658\u001b[0m             \u001b[1;32mexcept\u001b[0m \u001b[0mKeyError\u001b[0m\u001b[1;33m:\u001b[0m\u001b[1;33m\u001b[0m\u001b[1;33m\u001b[0m\u001b[0m\n",
      "\u001b[1;32mpandas/_libs/index.pyx\u001b[0m in \u001b[0;36mpandas._libs.index.IndexEngine.get_loc\u001b[1;34m()\u001b[0m\n",
      "\u001b[1;32mpandas/_libs/index.pyx\u001b[0m in \u001b[0;36mpandas._libs.index.IndexEngine.get_loc\u001b[1;34m()\u001b[0m\n",
      "\u001b[1;32mpandas/_libs/hashtable_class_helper.pxi\u001b[0m in \u001b[0;36mpandas._libs.hashtable.PyObjectHashTable.get_item\u001b[1;34m()\u001b[0m\n",
      "\u001b[1;32mpandas/_libs/hashtable_class_helper.pxi\u001b[0m in \u001b[0;36mpandas._libs.hashtable.PyObjectHashTable.get_item\u001b[1;34m()\u001b[0m\n",
      "\u001b[1;31mKeyError\u001b[0m: 'State'",
      "\nDuring handling of the above exception, another exception occurred:\n",
      "\u001b[1;31mKeyError\u001b[0m                                  Traceback (most recent call last)",
      "\u001b[1;32m<ipython-input-3-43b4bef5ffc4>\u001b[0m in \u001b[0;36m<module>\u001b[1;34m\u001b[0m\n\u001b[0;32m      1\u001b[0m \u001b[1;31m# Create a filtered dataframe filtered by Ohio and Cuyahoga County\u001b[0m\u001b[1;33m\u001b[0m\u001b[1;33m\u001b[0m\u001b[1;33m\u001b[0m\u001b[0m\n\u001b[1;32m----> 2\u001b[1;33m \u001b[0mCensus_Cuyahoga_County\u001b[0m\u001b[1;33m=\u001b[0m\u001b[0mcensus_df\u001b[0m\u001b[1;33m.\u001b[0m\u001b[0mloc\u001b[0m\u001b[1;33m[\u001b[0m\u001b[1;33m(\u001b[0m\u001b[0mcensus_df\u001b[0m\u001b[1;33m[\u001b[0m\u001b[1;34m\"State\"\u001b[0m\u001b[1;33m]\u001b[0m \u001b[1;33m==\u001b[0m\u001b[1;34m\"Ohio\"\u001b[0m\u001b[1;33m)\u001b[0m \u001b[1;33m&\u001b[0m \u001b[1;33m(\u001b[0m\u001b[0mcensus_df\u001b[0m\u001b[1;33m[\u001b[0m\u001b[1;34m\"County\"\u001b[0m\u001b[1;33m]\u001b[0m \u001b[1;33m==\u001b[0m\u001b[1;34m\"Cuyahoga\"\u001b[0m\u001b[1;33m)\u001b[0m\u001b[1;33m]\u001b[0m\u001b[1;33m\u001b[0m\u001b[1;33m\u001b[0m\u001b[0m\n\u001b[0m\u001b[0;32m      3\u001b[0m \u001b[0mCensus_Cuyahoga_County\u001b[0m\u001b[1;33m.\u001b[0m\u001b[0mhead\u001b[0m\u001b[1;33m(\u001b[0m\u001b[1;33m)\u001b[0m\u001b[1;33m\u001b[0m\u001b[1;33m\u001b[0m\u001b[0m\n",
      "\u001b[1;32m~\\Anaconda3\\lib\\site-packages\\pandas\\core\\frame.py\u001b[0m in \u001b[0;36m__getitem__\u001b[1;34m(self, key)\u001b[0m\n\u001b[0;32m   2925\u001b[0m             \u001b[1;32mif\u001b[0m \u001b[0mself\u001b[0m\u001b[1;33m.\u001b[0m\u001b[0mcolumns\u001b[0m\u001b[1;33m.\u001b[0m\u001b[0mnlevels\u001b[0m \u001b[1;33m>\u001b[0m \u001b[1;36m1\u001b[0m\u001b[1;33m:\u001b[0m\u001b[1;33m\u001b[0m\u001b[1;33m\u001b[0m\u001b[0m\n\u001b[0;32m   2926\u001b[0m                 \u001b[1;32mreturn\u001b[0m \u001b[0mself\u001b[0m\u001b[1;33m.\u001b[0m\u001b[0m_getitem_multilevel\u001b[0m\u001b[1;33m(\u001b[0m\u001b[0mkey\u001b[0m\u001b[1;33m)\u001b[0m\u001b[1;33m\u001b[0m\u001b[1;33m\u001b[0m\u001b[0m\n\u001b[1;32m-> 2927\u001b[1;33m             \u001b[0mindexer\u001b[0m \u001b[1;33m=\u001b[0m \u001b[0mself\u001b[0m\u001b[1;33m.\u001b[0m\u001b[0mcolumns\u001b[0m\u001b[1;33m.\u001b[0m\u001b[0mget_loc\u001b[0m\u001b[1;33m(\u001b[0m\u001b[0mkey\u001b[0m\u001b[1;33m)\u001b[0m\u001b[1;33m\u001b[0m\u001b[1;33m\u001b[0m\u001b[0m\n\u001b[0m\u001b[0;32m   2928\u001b[0m             \u001b[1;32mif\u001b[0m \u001b[0mis_integer\u001b[0m\u001b[1;33m(\u001b[0m\u001b[0mindexer\u001b[0m\u001b[1;33m)\u001b[0m\u001b[1;33m:\u001b[0m\u001b[1;33m\u001b[0m\u001b[1;33m\u001b[0m\u001b[0m\n\u001b[0;32m   2929\u001b[0m                 \u001b[0mindexer\u001b[0m \u001b[1;33m=\u001b[0m \u001b[1;33m[\u001b[0m\u001b[0mindexer\u001b[0m\u001b[1;33m]\u001b[0m\u001b[1;33m\u001b[0m\u001b[1;33m\u001b[0m\u001b[0m\n",
      "\u001b[1;32m~\\Anaconda3\\lib\\site-packages\\pandas\\core\\indexes\\base.py\u001b[0m in \u001b[0;36mget_loc\u001b[1;34m(self, key, method, tolerance)\u001b[0m\n\u001b[0;32m   2657\u001b[0m                 \u001b[1;32mreturn\u001b[0m \u001b[0mself\u001b[0m\u001b[1;33m.\u001b[0m\u001b[0m_engine\u001b[0m\u001b[1;33m.\u001b[0m\u001b[0mget_loc\u001b[0m\u001b[1;33m(\u001b[0m\u001b[0mkey\u001b[0m\u001b[1;33m)\u001b[0m\u001b[1;33m\u001b[0m\u001b[1;33m\u001b[0m\u001b[0m\n\u001b[0;32m   2658\u001b[0m             \u001b[1;32mexcept\u001b[0m \u001b[0mKeyError\u001b[0m\u001b[1;33m:\u001b[0m\u001b[1;33m\u001b[0m\u001b[1;33m\u001b[0m\u001b[0m\n\u001b[1;32m-> 2659\u001b[1;33m                 \u001b[1;32mreturn\u001b[0m \u001b[0mself\u001b[0m\u001b[1;33m.\u001b[0m\u001b[0m_engine\u001b[0m\u001b[1;33m.\u001b[0m\u001b[0mget_loc\u001b[0m\u001b[1;33m(\u001b[0m\u001b[0mself\u001b[0m\u001b[1;33m.\u001b[0m\u001b[0m_maybe_cast_indexer\u001b[0m\u001b[1;33m(\u001b[0m\u001b[0mkey\u001b[0m\u001b[1;33m)\u001b[0m\u001b[1;33m)\u001b[0m\u001b[1;33m\u001b[0m\u001b[1;33m\u001b[0m\u001b[0m\n\u001b[0m\u001b[0;32m   2660\u001b[0m         \u001b[0mindexer\u001b[0m \u001b[1;33m=\u001b[0m \u001b[0mself\u001b[0m\u001b[1;33m.\u001b[0m\u001b[0mget_indexer\u001b[0m\u001b[1;33m(\u001b[0m\u001b[1;33m[\u001b[0m\u001b[0mkey\u001b[0m\u001b[1;33m]\u001b[0m\u001b[1;33m,\u001b[0m \u001b[0mmethod\u001b[0m\u001b[1;33m=\u001b[0m\u001b[0mmethod\u001b[0m\u001b[1;33m,\u001b[0m \u001b[0mtolerance\u001b[0m\u001b[1;33m=\u001b[0m\u001b[0mtolerance\u001b[0m\u001b[1;33m)\u001b[0m\u001b[1;33m\u001b[0m\u001b[1;33m\u001b[0m\u001b[0m\n\u001b[0;32m   2661\u001b[0m         \u001b[1;32mif\u001b[0m \u001b[0mindexer\u001b[0m\u001b[1;33m.\u001b[0m\u001b[0mndim\u001b[0m \u001b[1;33m>\u001b[0m \u001b[1;36m1\u001b[0m \u001b[1;32mor\u001b[0m \u001b[0mindexer\u001b[0m\u001b[1;33m.\u001b[0m\u001b[0msize\u001b[0m \u001b[1;33m>\u001b[0m \u001b[1;36m1\u001b[0m\u001b[1;33m:\u001b[0m\u001b[1;33m\u001b[0m\u001b[1;33m\u001b[0m\u001b[0m\n",
      "\u001b[1;32mpandas/_libs/index.pyx\u001b[0m in \u001b[0;36mpandas._libs.index.IndexEngine.get_loc\u001b[1;34m()\u001b[0m\n",
      "\u001b[1;32mpandas/_libs/index.pyx\u001b[0m in \u001b[0;36mpandas._libs.index.IndexEngine.get_loc\u001b[1;34m()\u001b[0m\n",
      "\u001b[1;32mpandas/_libs/hashtable_class_helper.pxi\u001b[0m in \u001b[0;36mpandas._libs.hashtable.PyObjectHashTable.get_item\u001b[1;34m()\u001b[0m\n",
      "\u001b[1;32mpandas/_libs/hashtable_class_helper.pxi\u001b[0m in \u001b[0;36mpandas._libs.hashtable.PyObjectHashTable.get_item\u001b[1;34m()\u001b[0m\n",
      "\u001b[1;31mKeyError\u001b[0m: 'State'"
     ]
    }
   ],
   "source": [
    "# Create a filtered dataframe filtered by Ohio and Cuyahoga County\n",
    "Census_Cuyahoga_County=census_df.loc[(census_df[\"State\"] ==\"Ohio\") & (census_df[\"County\"] ==\"Cuyahoga\")]\n",
    "Census_Cuyahoga_County.head()"
   ]
  },
  {
   "cell_type": "code",
   "execution_count": null,
   "metadata": {},
   "outputs": [],
   "source": [
    "#List all columns\n",
    "cols = Census_Cuyahoga_County.columns.tolist()\n",
    "cols"
   ]
  },
  {
   "cell_type": "code",
   "execution_count": 4,
   "metadata": {},
   "outputs": [
    {
     "ename": "NameError",
     "evalue": "name 'Census_Cuyahoga_County' is not defined",
     "output_type": "error",
     "traceback": [
      "\u001b[1;31m---------------------------------------------------------------------------\u001b[0m",
      "\u001b[1;31mNameError\u001b[0m                                 Traceback (most recent call last)",
      "\u001b[1;32m<ipython-input-4-3ab854723911>\u001b[0m in \u001b[0;36m<module>\u001b[1;34m\u001b[0m\n\u001b[0;32m      2\u001b[0m census_cols = [\"CensusTract\",\"TotalPop\",\"Men\",\"Women\",\"Hispanic\", \"White\",\"Black\",\"Native\",\"Asian\",\"Pacific\", \"Income\",\"IncomePerCap\",\"Poverty\",\"Professional\",\n\u001b[0;32m      3\u001b[0m  \"Service\",\"Office\",\"Construction\",\"Production\",\"Employed\",\"PrivateWork\",\"PublicWork\",\"SelfEmployed\",\"FamilyWork\",\"Unemployment\"]\n\u001b[1;32m----> 4\u001b[1;33m \u001b[0mcensus_transformed\u001b[0m\u001b[1;33m=\u001b[0m \u001b[0mCensus_Cuyahoga_County\u001b[0m\u001b[1;33m[\u001b[0m\u001b[0mcensus_cols\u001b[0m\u001b[1;33m]\u001b[0m\u001b[1;33m.\u001b[0m\u001b[0mcopy\u001b[0m\u001b[1;33m(\u001b[0m\u001b[1;33m)\u001b[0m\u001b[1;33m\u001b[0m\u001b[1;33m\u001b[0m\u001b[0m\n\u001b[0m\u001b[0;32m      5\u001b[0m \u001b[0mcensus_transformed\u001b[0m\u001b[1;33m.\u001b[0m\u001b[0mhead\u001b[0m\u001b[1;33m(\u001b[0m\u001b[1;33m)\u001b[0m\u001b[1;33m\u001b[0m\u001b[1;33m\u001b[0m\u001b[0m\n\u001b[0;32m      6\u001b[0m \u001b[1;33m\u001b[0m\u001b[0m\n",
      "\u001b[1;31mNameError\u001b[0m: name 'Census_Cuyahoga_County' is not defined"
     ]
    }
   ],
   "source": [
    "# Create a filtered dataframe from specific columns\n",
    "census_cols = [\"CensusTract\",\"TotalPop\",\"Men\",\"Women\",\"Hispanic\", \"White\",\"Black\",\"Native\",\"Asian\",\"Pacific\", \"Income\",\"IncomePerCap\",\"Poverty\",\"Professional\",\n",
    " \"Service\",\"Office\",\"Construction\",\"Production\",\"Employed\",\"PrivateWork\",\"PublicWork\",\"SelfEmployed\",\"FamilyWork\",\"Unemployment\"]\n",
    "census_transformed= Census_Cuyahoga_County[census_cols].copy()\n",
    "census_transformed.head()\n",
    "\n"
   ]
  },
  {
   "cell_type": "code",
   "execution_count": 5,
   "metadata": {},
   "outputs": [
    {
     "ename": "NameError",
     "evalue": "name 'census_transformed' is not defined",
     "output_type": "error",
     "traceback": [
      "\u001b[1;31m---------------------------------------------------------------------------\u001b[0m",
      "\u001b[1;31mNameError\u001b[0m                                 Traceback (most recent call last)",
      "\u001b[1;32m<ipython-input-5-549474e870ad>\u001b[0m in \u001b[0;36m<module>\u001b[1;34m\u001b[0m\n\u001b[0;32m      1\u001b[0m \u001b[1;31m# Rename the column headers\u001b[0m\u001b[1;33m\u001b[0m\u001b[1;33m\u001b[0m\u001b[1;33m\u001b[0m\u001b[0m\n\u001b[1;32m----> 2\u001b[1;33m census_transformed = census_transformed.rename(columns={\"CensusTract\": \"census_tract\",\"TotalPop\": \"total_population\",\"Men\": \"men\",\"Women\": \"women\",\"Hispanic\":\"hispanic\",\"White\":\"white\",\"Black\":\"black\",\n\u001b[0m\u001b[0;32m      3\u001b[0m                                                         \u001b[1;34m\"Native\"\u001b[0m\u001b[1;33m:\u001b[0m\u001b[1;34m\"native\"\u001b[0m\u001b[1;33m,\u001b[0m\u001b[1;34m\"Asian\"\u001b[0m\u001b[1;33m:\u001b[0m\u001b[1;34m\"asian\"\u001b[0m\u001b[1;33m,\u001b[0m\u001b[1;34m\"Pacific\"\u001b[0m\u001b[1;33m:\u001b[0m\u001b[1;34m\"pacific\"\u001b[0m\u001b[1;33m,\u001b[0m\u001b[1;34m\"Income\"\u001b[0m\u001b[1;33m:\u001b[0m\u001b[1;34m\"median_household_income\"\u001b[0m\u001b[1;33m,\u001b[0m\u001b[1;34m\"IncomePerCap\"\u001b[0m\u001b[1;33m:\u001b[0m\u001b[1;34m\"income_per_capita\"\u001b[0m\u001b[1;33m,\u001b[0m\u001b[1;34m\"Poverty\"\u001b[0m\u001b[1;33m:\u001b[0m\u001b[1;34m\"under_poverty_level_percentage\"\u001b[0m\u001b[1;33m,\u001b[0m\u001b[1;34m\"Professional\"\u001b[0m\u001b[1;33m:\u001b[0m\u001b[1;34m\"professional_workers_percentage\"\u001b[0m\u001b[1;33m,\u001b[0m\u001b[1;33m\u001b[0m\u001b[1;33m\u001b[0m\u001b[0m\n\u001b[0;32m      4\u001b[0m                                                        \u001b[1;34m\"Service\"\u001b[0m\u001b[1;33m:\u001b[0m\u001b[1;34m\"service_workers_percentage\"\u001b[0m\u001b[1;33m,\u001b[0m\u001b[1;34m\"Office\"\u001b[0m\u001b[1;33m:\u001b[0m\u001b[1;34m\"office_workers_percentage\"\u001b[0m\u001b[1;33m,\u001b[0m\u001b[1;34m\"Construction\"\u001b[0m\u001b[1;33m:\u001b[0m\u001b[1;34m\"construction_workers_percentage\"\u001b[0m\u001b[1;33m,\u001b[0m\u001b[1;33m\u001b[0m\u001b[1;33m\u001b[0m\u001b[0m\n\u001b[0;32m      5\u001b[0m                                                        \u001b[1;34m\"Production\"\u001b[0m\u001b[1;33m:\u001b[0m\u001b[1;34m\"production_workers_percentage\"\u001b[0m\u001b[1;33m,\u001b[0m\u001b[1;34m\"Employed\"\u001b[0m\u001b[1;33m:\u001b[0m\u001b[1;34m\"total_employed\"\u001b[0m\u001b[1;33m,\u001b[0m\u001b[1;34m\"PrivateWork\"\u001b[0m\u001b[1;33m:\u001b[0m\u001b[1;34m\"private_work\"\u001b[0m\u001b[1;33m,\u001b[0m\u001b[1;33m\u001b[0m\u001b[1;33m\u001b[0m\u001b[0m\n",
      "\u001b[1;31mNameError\u001b[0m: name 'census_transformed' is not defined"
     ]
    }
   ],
   "source": [
    "# Rename the column headers\n",
    "census_transformed = census_transformed.rename(columns={\"CensusTract\": \"census_tract\",\"TotalPop\": \"total_population\",\"Men\": \"men\",\"Women\": \"women\",\"Hispanic\":\"hispanic\",\"White\":\"white\",\"Black\":\"black\",\n",
    "                                                        \"Native\":\"native\",\"Asian\":\"asian\",\"Pacific\":\"pacific\",\"Income\":\"median_household_income\",\"IncomePerCap\":\"income_per_capita\",\"Poverty\":\"under_poverty_level_percentage\",\"Professional\":\"professional_workers_percentage\",\n",
    "                                                       \"Service\":\"service_workers_percentage\",\"Office\":\"office_workers_percentage\",\"Construction\":\"construction_workers_percentage\",\n",
    "                                                       \"Production\":\"production_workers_percentage\",\"Employed\":\"total_employed\",\"PrivateWork\":\"private_work\",\n",
    "                                                      \"PublicWork\":\"public_work\",\"SelfEmployed\":\"self_employed\",\"FamilyWork\":\"family_work\",\"Unemployment\":\"unemployment\" })\n",
    "# Clean the data by dropping duplicates and setting the index\n",
    "census_transformed.drop_duplicates(\"census_tract\", inplace=True)\n",
    "census_transformed.set_index(\"census_tract\", inplace=True)\n",
    "\n",
    "\n",
    "census_transformed.head()\n"
   ]
  },
  {
   "cell_type": "code",
   "execution_count": 6,
   "metadata": {},
   "outputs": [
    {
     "ename": "NameError",
     "evalue": "name 'census_transformed' is not defined",
     "output_type": "error",
     "traceback": [
      "\u001b[1;31m---------------------------------------------------------------------------\u001b[0m",
      "\u001b[1;31mNameError\u001b[0m                                 Traceback (most recent call last)",
      "\u001b[1;32m<ipython-input-6-3562928f3fbb>\u001b[0m in \u001b[0;36m<module>\u001b[1;34m\u001b[0m\n\u001b[0;32m      1\u001b[0m \u001b[1;31m# Create a filtered dataframe from specific columns for the census employment type table\u001b[0m\u001b[1;33m\u001b[0m\u001b[1;33m\u001b[0m\u001b[1;33m\u001b[0m\u001b[0m\n\u001b[0;32m      2\u001b[0m \u001b[0mcensus_employment_type_columns\u001b[0m \u001b[1;33m=\u001b[0m \u001b[1;33m[\u001b[0m \u001b[1;34m\"total_employed\"\u001b[0m\u001b[1;33m,\u001b[0m\u001b[1;34m\"private_work\"\u001b[0m\u001b[1;33m,\u001b[0m\u001b[1;34m\"public_work\"\u001b[0m\u001b[1;33m,\u001b[0m\u001b[1;34m\"self_employed\"\u001b[0m\u001b[1;33m]\u001b[0m\u001b[1;33m\u001b[0m\u001b[1;33m\u001b[0m\u001b[0m\n\u001b[1;32m----> 3\u001b[1;33m \u001b[0mcensus_employment_type\u001b[0m\u001b[1;33m=\u001b[0m\u001b[0mcensus_transformed\u001b[0m\u001b[1;33m[\u001b[0m\u001b[0mcensus_employment_type_columns\u001b[0m\u001b[1;33m]\u001b[0m\u001b[1;33m.\u001b[0m\u001b[0mcopy\u001b[0m\u001b[1;33m(\u001b[0m\u001b[1;33m)\u001b[0m\u001b[1;33m\u001b[0m\u001b[1;33m\u001b[0m\u001b[0m\n\u001b[0m\u001b[0;32m      4\u001b[0m \u001b[0mcensus_employment_type\u001b[0m\u001b[1;33m.\u001b[0m\u001b[0mhead\u001b[0m\u001b[1;33m(\u001b[0m\u001b[1;33m)\u001b[0m\u001b[1;33m\u001b[0m\u001b[1;33m\u001b[0m\u001b[0m\n",
      "\u001b[1;31mNameError\u001b[0m: name 'census_transformed' is not defined"
     ]
    }
   ],
   "source": [
    "# Create a filtered dataframe from specific columns for the census employment type table\n",
    "census_employment_type_columns = [ \"total_employed\",\"private_work\",\"public_work\",\"self_employed\"]\n",
    "census_employment_type=census_transformed[census_employment_type_columns].copy()\n",
    "census_employment_type.head()"
   ]
  },
  {
   "cell_type": "code",
   "execution_count": 45,
   "metadata": {},
   "outputs": [
    {
     "data": {
      "text/html": [
       "<div>\n",
       "<style scoped>\n",
       "    .dataframe tbody tr th:only-of-type {\n",
       "        vertical-align: middle;\n",
       "    }\n",
       "\n",
       "    .dataframe tbody tr th {\n",
       "        vertical-align: top;\n",
       "    }\n",
       "\n",
       "    .dataframe thead th {\n",
       "        text-align: right;\n",
       "    }\n",
       "</style>\n",
       "<table border=\"1\" class=\"dataframe\">\n",
       "  <thead>\n",
       "    <tr style=\"text-align: right;\">\n",
       "      <th></th>\n",
       "      <th>median_household_income</th>\n",
       "      <th>income_per_capita</th>\n",
       "      <th>under_poverty_level_percentage</th>\n",
       "    </tr>\n",
       "    <tr>\n",
       "      <th>census_tract</th>\n",
       "      <th></th>\n",
       "      <th></th>\n",
       "      <th></th>\n",
       "    </tr>\n",
       "  </thead>\n",
       "  <tbody>\n",
       "    <tr>\n",
       "      <th>3.903510e+10</th>\n",
       "      <td>16553.0</td>\n",
       "      <td>12081.0</td>\n",
       "      <td>57.2</td>\n",
       "    </tr>\n",
       "    <tr>\n",
       "      <th>3.903510e+10</th>\n",
       "      <td>39528.0</td>\n",
       "      <td>34094.0</td>\n",
       "      <td>11.2</td>\n",
       "    </tr>\n",
       "    <tr>\n",
       "      <th>3.903510e+10</th>\n",
       "      <td>18262.0</td>\n",
       "      <td>16663.0</td>\n",
       "      <td>43.3</td>\n",
       "    </tr>\n",
       "    <tr>\n",
       "      <th>3.903510e+10</th>\n",
       "      <td>19872.0</td>\n",
       "      <td>19636.0</td>\n",
       "      <td>39.6</td>\n",
       "    </tr>\n",
       "    <tr>\n",
       "      <th>3.903510e+10</th>\n",
       "      <td>28043.0</td>\n",
       "      <td>14137.0</td>\n",
       "      <td>29.8</td>\n",
       "    </tr>\n",
       "  </tbody>\n",
       "</table>\n",
       "</div>"
      ],
      "text/plain": [
       "              median_household_income  income_per_capita  \\\n",
       "census_tract                                               \n",
       "3.903510e+10                  16553.0            12081.0   \n",
       "3.903510e+10                  39528.0            34094.0   \n",
       "3.903510e+10                  18262.0            16663.0   \n",
       "3.903510e+10                  19872.0            19636.0   \n",
       "3.903510e+10                  28043.0            14137.0   \n",
       "\n",
       "              under_poverty_level_percentage  \n",
       "census_tract                                  \n",
       "3.903510e+10                            57.2  \n",
       "3.903510e+10                            11.2  \n",
       "3.903510e+10                            43.3  \n",
       "3.903510e+10                            39.6  \n",
       "3.903510e+10                            29.8  "
      ]
     },
     "execution_count": 45,
     "metadata": {},
     "output_type": "execute_result"
    }
   ],
   "source": [
    "# Create a filtered dataframe from specific columns for the census income table\n",
    "census_income_columns = [ \"median_household_income\",\"income_per_capita\",\"under_poverty_level_percentage\"]\n",
    "census_income=census_transformed[census_income_columns].copy()\n",
    "census_income.head()"
   ]
  },
  {
   "cell_type": "code",
   "execution_count": 46,
   "metadata": {},
   "outputs": [
    {
     "data": {
      "text/html": [
       "<div>\n",
       "<style scoped>\n",
       "    .dataframe tbody tr th:only-of-type {\n",
       "        vertical-align: middle;\n",
       "    }\n",
       "\n",
       "    .dataframe tbody tr th {\n",
       "        vertical-align: top;\n",
       "    }\n",
       "\n",
       "    .dataframe thead th {\n",
       "        text-align: right;\n",
       "    }\n",
       "</style>\n",
       "<table border=\"1\" class=\"dataframe\">\n",
       "  <thead>\n",
       "    <tr style=\"text-align: right;\">\n",
       "      <th></th>\n",
       "      <th>total_population</th>\n",
       "      <th>hispanic</th>\n",
       "      <th>white</th>\n",
       "      <th>black</th>\n",
       "      <th>native</th>\n",
       "      <th>asian</th>\n",
       "      <th>pacific</th>\n",
       "    </tr>\n",
       "    <tr>\n",
       "      <th>census_tract</th>\n",
       "      <th></th>\n",
       "      <th></th>\n",
       "      <th></th>\n",
       "      <th></th>\n",
       "      <th></th>\n",
       "      <th></th>\n",
       "      <th></th>\n",
       "    </tr>\n",
       "  </thead>\n",
       "  <tbody>\n",
       "    <tr>\n",
       "      <th>3.903510e+10</th>\n",
       "      <td>1903.0</td>\n",
       "      <td>13.8</td>\n",
       "      <td>34.6</td>\n",
       "      <td>35.2</td>\n",
       "      <td>0.0</td>\n",
       "      <td>13.1</td>\n",
       "      <td>0.0</td>\n",
       "    </tr>\n",
       "    <tr>\n",
       "      <th>3.903510e+10</th>\n",
       "      <td>4516.0</td>\n",
       "      <td>2.6</td>\n",
       "      <td>65.7</td>\n",
       "      <td>24.9</td>\n",
       "      <td>0.2</td>\n",
       "      <td>0.0</td>\n",
       "      <td>0.0</td>\n",
       "    </tr>\n",
       "    <tr>\n",
       "      <th>3.903510e+10</th>\n",
       "      <td>2640.0</td>\n",
       "      <td>22.5</td>\n",
       "      <td>53.7</td>\n",
       "      <td>22.2</td>\n",
       "      <td>0.4</td>\n",
       "      <td>0.0</td>\n",
       "      <td>0.0</td>\n",
       "    </tr>\n",
       "    <tr>\n",
       "      <th>3.903510e+10</th>\n",
       "      <td>1897.0</td>\n",
       "      <td>13.5</td>\n",
       "      <td>46.4</td>\n",
       "      <td>29.5</td>\n",
       "      <td>2.1</td>\n",
       "      <td>0.3</td>\n",
       "      <td>0.0</td>\n",
       "    </tr>\n",
       "    <tr>\n",
       "      <th>3.903510e+10</th>\n",
       "      <td>1932.0</td>\n",
       "      <td>20.7</td>\n",
       "      <td>50.2</td>\n",
       "      <td>19.5</td>\n",
       "      <td>1.2</td>\n",
       "      <td>5.7</td>\n",
       "      <td>0.0</td>\n",
       "    </tr>\n",
       "  </tbody>\n",
       "</table>\n",
       "</div>"
      ],
      "text/plain": [
       "              total_population  hispanic  white  black  native  asian  pacific\n",
       "census_tract                                                                  \n",
       "3.903510e+10            1903.0      13.8   34.6   35.2     0.0   13.1      0.0\n",
       "3.903510e+10            4516.0       2.6   65.7   24.9     0.2    0.0      0.0\n",
       "3.903510e+10            2640.0      22.5   53.7   22.2     0.4    0.0      0.0\n",
       "3.903510e+10            1897.0      13.5   46.4   29.5     2.1    0.3      0.0\n",
       "3.903510e+10            1932.0      20.7   50.2   19.5     1.2    5.7      0.0"
      ]
     },
     "execution_count": 46,
     "metadata": {},
     "output_type": "execute_result"
    }
   ],
   "source": [
    "# Create a filtered dataframe from specific columns for the census ethnicity table\n",
    "census_ethnicity_columns = [ \"total_population\",\"hispanic\",\"white\",\"black\",\"native\",\"asian\",\"pacific\"]\n",
    "census_ethnicity=census_transformed[census_ethnicity_columns].copy()\n",
    "census_ethnicity.head()"
   ]
  },
  {
   "cell_type": "code",
   "execution_count": 47,
   "metadata": {},
   "outputs": [
    {
     "data": {
      "text/html": [
       "<div>\n",
       "<style scoped>\n",
       "    .dataframe tbody tr th:only-of-type {\n",
       "        vertical-align: middle;\n",
       "    }\n",
       "\n",
       "    .dataframe tbody tr th {\n",
       "        vertical-align: top;\n",
       "    }\n",
       "\n",
       "    .dataframe thead th {\n",
       "        text-align: right;\n",
       "    }\n",
       "</style>\n",
       "<table border=\"1\" class=\"dataframe\">\n",
       "  <thead>\n",
       "    <tr style=\"text-align: right;\">\n",
       "      <th></th>\n",
       "      <th>total_population</th>\n",
       "      <th>men</th>\n",
       "      <th>women</th>\n",
       "    </tr>\n",
       "    <tr>\n",
       "      <th>census_tract</th>\n",
       "      <th></th>\n",
       "      <th></th>\n",
       "      <th></th>\n",
       "    </tr>\n",
       "  </thead>\n",
       "  <tbody>\n",
       "    <tr>\n",
       "      <th>3.903510e+10</th>\n",
       "      <td>1903.0</td>\n",
       "      <td>949.0</td>\n",
       "      <td>954.0</td>\n",
       "    </tr>\n",
       "    <tr>\n",
       "      <th>3.903510e+10</th>\n",
       "      <td>4516.0</td>\n",
       "      <td>2348.0</td>\n",
       "      <td>2168.0</td>\n",
       "    </tr>\n",
       "    <tr>\n",
       "      <th>3.903510e+10</th>\n",
       "      <td>2640.0</td>\n",
       "      <td>1358.0</td>\n",
       "      <td>1282.0</td>\n",
       "    </tr>\n",
       "    <tr>\n",
       "      <th>3.903510e+10</th>\n",
       "      <td>1897.0</td>\n",
       "      <td>973.0</td>\n",
       "      <td>924.0</td>\n",
       "    </tr>\n",
       "    <tr>\n",
       "      <th>3.903510e+10</th>\n",
       "      <td>1932.0</td>\n",
       "      <td>893.0</td>\n",
       "      <td>1039.0</td>\n",
       "    </tr>\n",
       "  </tbody>\n",
       "</table>\n",
       "</div>"
      ],
      "text/plain": [
       "              total_population     men   women\n",
       "census_tract                                  \n",
       "3.903510e+10            1903.0   949.0   954.0\n",
       "3.903510e+10            4516.0  2348.0  2168.0\n",
       "3.903510e+10            2640.0  1358.0  1282.0\n",
       "3.903510e+10            1897.0   973.0   924.0\n",
       "3.903510e+10            1932.0   893.0  1039.0"
      ]
     },
     "execution_count": 47,
     "metadata": {},
     "output_type": "execute_result"
    }
   ],
   "source": [
    "# Create a filtered dataframe from specific columns for the census gender table\n",
    "census_gender_columns = [ \"total_population\",\"men\",\"women\"]\n",
    "census_gender=census_transformed[census_gender_columns].copy()\n",
    "census_gender.head()"
   ]
  },
  {
   "cell_type": "code",
   "execution_count": 48,
   "metadata": {},
   "outputs": [
    {
     "data": {
      "text/html": [
       "<div>\n",
       "<style scoped>\n",
       "    .dataframe tbody tr th:only-of-type {\n",
       "        vertical-align: middle;\n",
       "    }\n",
       "\n",
       "    .dataframe tbody tr th {\n",
       "        vertical-align: top;\n",
       "    }\n",
       "\n",
       "    .dataframe thead th {\n",
       "        text-align: right;\n",
       "    }\n",
       "</style>\n",
       "<table border=\"1\" class=\"dataframe\">\n",
       "  <thead>\n",
       "    <tr style=\"text-align: right;\">\n",
       "      <th></th>\n",
       "      <th>total_employed</th>\n",
       "      <th>professional_workers_percentage</th>\n",
       "      <th>service_workers_percentage</th>\n",
       "      <th>office_workers_percentage</th>\n",
       "      <th>construction_workers_percentage</th>\n",
       "      <th>production_workers_percentage</th>\n",
       "    </tr>\n",
       "    <tr>\n",
       "      <th>census_tract</th>\n",
       "      <th></th>\n",
       "      <th></th>\n",
       "      <th></th>\n",
       "      <th></th>\n",
       "      <th></th>\n",
       "      <th></th>\n",
       "    </tr>\n",
       "  </thead>\n",
       "  <tbody>\n",
       "    <tr>\n",
       "      <th>3.903510e+10</th>\n",
       "      <td>567.0</td>\n",
       "      <td>22.4</td>\n",
       "      <td>40.2</td>\n",
       "      <td>13.8</td>\n",
       "      <td>2.5</td>\n",
       "      <td>21.2</td>\n",
       "    </tr>\n",
       "    <tr>\n",
       "      <th>3.903510e+10</th>\n",
       "      <td>2790.0</td>\n",
       "      <td>38.6</td>\n",
       "      <td>24.9</td>\n",
       "      <td>27.1</td>\n",
       "      <td>3.6</td>\n",
       "      <td>5.8</td>\n",
       "    </tr>\n",
       "    <tr>\n",
       "      <th>3.903510e+10</th>\n",
       "      <td>899.0</td>\n",
       "      <td>30.6</td>\n",
       "      <td>16.9</td>\n",
       "      <td>29.8</td>\n",
       "      <td>10.8</td>\n",
       "      <td>11.9</td>\n",
       "    </tr>\n",
       "    <tr>\n",
       "      <th>3.903510e+10</th>\n",
       "      <td>861.0</td>\n",
       "      <td>26.2</td>\n",
       "      <td>31.4</td>\n",
       "      <td>15.3</td>\n",
       "      <td>0.0</td>\n",
       "      <td>27.1</td>\n",
       "    </tr>\n",
       "    <tr>\n",
       "      <th>3.903510e+10</th>\n",
       "      <td>782.0</td>\n",
       "      <td>18.5</td>\n",
       "      <td>28.6</td>\n",
       "      <td>18.2</td>\n",
       "      <td>6.4</td>\n",
       "      <td>28.3</td>\n",
       "    </tr>\n",
       "  </tbody>\n",
       "</table>\n",
       "</div>"
      ],
      "text/plain": [
       "              total_employed  professional_workers_percentage  \\\n",
       "census_tract                                                    \n",
       "3.903510e+10           567.0                             22.4   \n",
       "3.903510e+10          2790.0                             38.6   \n",
       "3.903510e+10           899.0                             30.6   \n",
       "3.903510e+10           861.0                             26.2   \n",
       "3.903510e+10           782.0                             18.5   \n",
       "\n",
       "              service_workers_percentage  office_workers_percentage  \\\n",
       "census_tract                                                          \n",
       "3.903510e+10                        40.2                       13.8   \n",
       "3.903510e+10                        24.9                       27.1   \n",
       "3.903510e+10                        16.9                       29.8   \n",
       "3.903510e+10                        31.4                       15.3   \n",
       "3.903510e+10                        28.6                       18.2   \n",
       "\n",
       "              construction_workers_percentage  production_workers_percentage  \n",
       "census_tract                                                                  \n",
       "3.903510e+10                              2.5                           21.2  \n",
       "3.903510e+10                              3.6                            5.8  \n",
       "3.903510e+10                             10.8                           11.9  \n",
       "3.903510e+10                              0.0                           27.1  \n",
       "3.903510e+10                              6.4                           28.3  "
      ]
     },
     "execution_count": 48,
     "metadata": {},
     "output_type": "execute_result"
    }
   ],
   "source": [
    "# Create a filtered dataframe from specific columns for the census professions table\n",
    "census_professions_columns = [ \"total_employed\",\"professional_workers_percentage\",\"service_workers_percentage\",\"office_workers_percentage\",\"construction_workers_percentage\",\"production_workers_percentage\"]\n",
    "census_professions=census_transformed[census_professions_columns].copy()\n",
    "census_professions.head()"
   ]
  },
  {
   "cell_type": "code",
   "execution_count": 49,
   "metadata": {},
   "outputs": [
    {
     "data": {
      "text/html": [
       "<div>\n",
       "<style scoped>\n",
       "    .dataframe tbody tr th:only-of-type {\n",
       "        vertical-align: middle;\n",
       "    }\n",
       "\n",
       "    .dataframe tbody tr th {\n",
       "        vertical-align: top;\n",
       "    }\n",
       "\n",
       "    .dataframe thead th {\n",
       "        text-align: right;\n",
       "    }\n",
       "</style>\n",
       "<table border=\"1\" class=\"dataframe\">\n",
       "  <thead>\n",
       "    <tr style=\"text-align: right;\">\n",
       "      <th></th>\n",
       "      <th>total_population</th>\n",
       "    </tr>\n",
       "    <tr>\n",
       "      <th>census_tract</th>\n",
       "      <th></th>\n",
       "    </tr>\n",
       "  </thead>\n",
       "  <tbody>\n",
       "    <tr>\n",
       "      <th>3.903510e+10</th>\n",
       "      <td>1903.0</td>\n",
       "    </tr>\n",
       "    <tr>\n",
       "      <th>3.903510e+10</th>\n",
       "      <td>4516.0</td>\n",
       "    </tr>\n",
       "    <tr>\n",
       "      <th>3.903510e+10</th>\n",
       "      <td>2640.0</td>\n",
       "    </tr>\n",
       "    <tr>\n",
       "      <th>3.903510e+10</th>\n",
       "      <td>1897.0</td>\n",
       "    </tr>\n",
       "    <tr>\n",
       "      <th>3.903510e+10</th>\n",
       "      <td>1932.0</td>\n",
       "    </tr>\n",
       "  </tbody>\n",
       "</table>\n",
       "</div>"
      ],
      "text/plain": [
       "              total_population\n",
       "census_tract                  \n",
       "3.903510e+10            1903.0\n",
       "3.903510e+10            4516.0\n",
       "3.903510e+10            2640.0\n",
       "3.903510e+10            1897.0\n",
       "3.903510e+10            1932.0"
      ]
     },
     "execution_count": 49,
     "metadata": {},
     "output_type": "execute_result"
    }
   ],
   "source": [
    "# Create a filtered dataframe from specific columns for the census population table\n",
    "census_population_columns = [ \"total_population\"]\n",
    "census_population=census_transformed[census_population_columns].copy()\n",
    "census_population.head()"
   ]
  },
  {
   "cell_type": "markdown",
   "metadata": {},
   "source": [
    "# Create database connection"
   ]
  },
  {
   "cell_type": "code",
   "execution_count": 50,
   "metadata": {},
   "outputs": [],
   "source": [
    "connection_string = \"postgres:postgres@localhost:5432/Voting_Pattern\"\n",
    "engine = create_engine(f'postgresql://{connection_string}')"
   ]
  },
  {
   "cell_type": "code",
   "execution_count": 51,
   "metadata": {},
   "outputs": [
    {
     "data": {
      "text/plain": [
       "['census_population']"
      ]
     },
     "execution_count": 51,
     "metadata": {},
     "output_type": "execute_result"
    }
   ],
   "source": [
    "# Confirm tables\n",
    "engine.table_names()"
   ]
  },
  {
   "cell_type": "markdown",
   "metadata": {},
   "source": [
    "# Load DataFrames into database"
   ]
  },
  {
   "cell_type": "code",
   "execution_count": 53,
   "metadata": {},
   "outputs": [],
   "source": [
    "#census_population.to_sql(name='census_population', con=engine, if_exists='append', index=True)"
   ]
  },
  {
   "cell_type": "code",
   "execution_count": null,
   "metadata": {},
   "outputs": [],
   "source": []
  }
 ],
 "metadata": {
  "kernelspec": {
   "display_name": "Python 3",
   "language": "python",
   "name": "python3"
  },
  "language_info": {
   "codemirror_mode": {
    "name": "ipython",
    "version": 3
   },
   "file_extension": ".py",
   "mimetype": "text/x-python",
   "name": "python",
   "nbconvert_exporter": "python",
   "pygments_lexer": "ipython3",
   "version": "3.7.3"
  }
 },
 "nbformat": 4,
 "nbformat_minor": 2
}
